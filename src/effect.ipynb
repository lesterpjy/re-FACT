{
 "cells": [
  {
   "cell_type": "code",
   "execution_count": null,
   "metadata": {
    "vscode": {
     "languageId": "plaintext"
    }
   },
   "outputs": [],
   "source": [
    "prompts = dfs['prompt_final'].tolist()\n",
    "toxicity = dfs[\"toxicity\"].to_list()\n",
    "\n",
    "y_sampled = np.array(toxicity) > 0.5\n",
    "answer_tokens = [1 if y else -1 for y in y_sampled]"
   ]
  },
  {
   "cell_type": "code",
   "execution_count": null,
   "metadata": {
    "vscode": {
     "languageId": "plaintext"
    }
   },
   "outputs": [],
   "source": [
    "diff_result = []\n",
    "\n",
    "for i in range(0,len(prompts),batch_size):\n",
    "    \n",
    "    tokens_org = model.to_tokens(prompts[i:i+batch_size])\n",
    "\n",
    "    results_org = model(tokens_org)\n",
    "\n",
    "\n",
    "\n",
    "    # compute the difference\n",
    "    samples_diff = compute_logit_diff_2(results_org, \n",
    "                         tokens_org, \n",
    "                         answer_tokens, #we would get a difference correct - incorrect\n",
    "                         needed_tokens = needed_tokens, \n",
    "                         average = False)\n",
    "    \n",
    "    diff_result.append(samples_diff.tolist())"
   ]
  }
 ],
 "metadata": {
  "language_info": {
   "name": "python"
  }
 },
 "nbformat": 4,
 "nbformat_minor": 2
}
