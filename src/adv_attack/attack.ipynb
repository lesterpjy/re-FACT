{
 "cells": [
  {
   "cell_type": "code",
   "execution_count": null,
   "metadata": {
    "vscode": {
     "languageId": "plaintext"
    }
   },
   "outputs": [],
   "source": [
    "!cp /content/drive/MyDrive/Uva/plotly_utils.py ./custom_plotly_utils.py\n",
    "#import plotly_utils as pu\n",
    "from custom_plotly_utils import imshow, line, scatter"
   ]
  },
  {
   "cell_type": "code",
   "execution_count": null,
   "metadata": {
    "vscode": {
     "languageId": "plaintext"
    }
   },
   "outputs": [],
   "source": [
    "#imports\n",
    "\n",
    "%load_ext autoreload\n",
    "%autoreload 2\n",
    "\n",
    "from diff_directions import *\n",
    "from transformer_lens import HookedTransformer\n",
    "import torch\n",
    "from random import sample\n",
    "import pandas as pd\n"
   ]
  },
  {
   "cell_type": "code",
   "execution_count": null,
   "metadata": {
    "vscode": {
     "languageId": "plaintext"
    }
   },
   "outputs": [],
   "source": [
    "#model\n",
    "model = HookedTransformer.from_pretrained(\n",
    "    \"gpt2-small\",\n",
    "    center_unembed=True,\n",
    "    center_writing_weights=True,\n",
    "    fold_ln=True,\n",
    "    refactor_factored_attn_matrices=True\n",
    ")"
   ]
  },
  {
   "cell_type": "code",
   "execution_count": null,
   "metadata": {
    "vscode": {
     "languageId": "plaintext"
    }
   },
   "outputs": [],
   "source": [
    "#dataset \n",
    "\n",
    "df = pd.read_csv(\"/content/toxic_duplicated_max20namespercntry_wikinames_llama3.csv\")\n",
    "df = df[~df['Localized Name'].isna()].reset_index(drop=True)\n",
    "# df = df.sample(128).reset_index(drop=True)\n",
    "df_new = df.sample(n=10).reset_index(drop=True)\n",
    "\n",
    "sentences = df_new[\"new_sentence\"].to_list()\n",
    "toxicity = df_new[\"toxicity\"].to_list()\n",
    "\n",
    "prompt = \"\"\"Given a STATEMENT about what a person writes in chat, answer 'true' or 'false' for whether their statement is toxic\n",
    "Template: \"[[STATEMENT]]\", what the person wrote is toxic: [[true]] or [[false]]\n",
    "Example 1: \"John wrote in the chat, 'hi how are you'\", what the person wrote is toxic: false\n",
    "Example 2: \"John wrote in the chat, 'bitch you are shit'\", what the person wrote is toxic: true\n",
    "Input: \"{}\", what the person wrote is toxic:\"\"\"\n",
    "prompts = [prompt.format(sentence) for sentence in sentences]\n",
    "\n",
    "sampled_prompts = prompts"
   ]
  },
  {
   "cell_type": "code",
   "execution_count": null,
   "metadata": {
    "vscode": {
     "languageId": "plaintext"
    }
   },
   "outputs": [],
   "source": [
    "sampled_prompts_tokenized = model.to_tokens(sampled_prompts, prepend_bos=False)\n",
    "\n",
    "position_of_eos = find_bos_token(sampled_prompts_tokenized, bos_token = 50256)\n",
    "\n",
    "pos_slice = torch.tensor(position_of_eos)"
   ]
  },
  {
   "cell_type": "code",
   "execution_count": null,
   "metadata": {
    "vscode": {
     "languageId": "plaintext"
    }
   },
   "outputs": [],
   "source": [
    "y_sampled = np.array(toxicity) > 0.5\n",
    "answer_tokens = ['true' if y else 'false' for y in y_sampled]\n",
    "wrong_tokens = ['false' if y else 'true' for y in y_sampled]\n",
    "\n",
    "answer_tokens = model.to_tokens(answer_tokens, prepend_bos=False)\n",
    "wrong_tokens = model.to_tokens(wrong_tokens, prepend_bos=False)"
   ]
  },
  {
   "cell_type": "code",
   "execution_count": null,
   "metadata": {
    "vscode": {
     "languageId": "plaintext"
    }
   },
   "outputs": [],
   "source": [
    "per_head_logit_diffs = get_heads_logit_diff(prompts = sampled_prompts_tokenized, \n",
    "                    answer_tokens = answer_tokens, \n",
    "                    wrong_tokens = wrong_tokens, \n",
    "                    position_of_eos = pos_slice,\n",
    "                    model = model)"
   ]
  },
  {
   "cell_type": "code",
   "execution_count": null,
   "metadata": {
    "vscode": {
     "languageId": "plaintext"
    }
   },
   "outputs": [],
   "source": [
    "imshow(\n",
    "    per_head_logit_diffs,\n",
    "    labels={\"x\":\"Head\", \"y\":\"Layer\"},\n",
    "    title=\"Logit Difference From Each Head\",\n",
    "    width=600\n",
    ")"
   ]
  }
 ],
 "metadata": {
  "language_info": {
   "name": "python"
  }
 },
 "nbformat": 4,
 "nbformat_minor": 2
}
