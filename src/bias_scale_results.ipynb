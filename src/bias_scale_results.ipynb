{
 "cells": [
  {
   "cell_type": "code",
   "execution_count": 1,
   "id": "27ba5151-9e72-4c28-a07f-d2e5896ca26a",
   "metadata": {},
   "outputs": [],
   "source": [
    "%load_ext autoreload\n",
    "%autoreload 2\n",
    "\n",
    "import torch\n",
    "import pandas as pd\n",
    "import pickle\n",
    "import numpy as np"
   ]
  },
  {
   "cell_type": "code",
   "execution_count": 4,
   "id": "c298c304-e0ee-407b-bee9-4b8071b2ca31",
   "metadata": {},
   "outputs": [],
   "source": [
    "dfs = pd.read_csv(\"data/circuit_identification_data/final_toxicity_prompts_0.csv\")\n",
    "threshold_logit = -0.63"
   ]
  },
  {
   "cell_type": "code",
   "execution_count": 5,
   "id": "b7b3348d",
   "metadata": {},
   "outputs": [],
   "source": [
    "from src.utils.file_utils import load_pickle_from_gpu\n",
    "\n",
    "def get_results(file_name, dfs, threshold_logit):\n",
    "    results_0 = load_pickle_from_gpu(file_name)\n",
    "    results_0 = [item.item() for sublist in results_0 for item in sublist]\n",
    "\n",
    "    dfs['log_diff_0'] = np.array(results_0)\n",
    "\n",
    "    grouped = dfs.groupby('prompt')['log_diff_0'].std()\n",
    "    mean_std_dev = grouped.mean()\n",
    "\n",
    "    print(f\"Mean standard deviation: {mean_std_dev}\")\n",
    "\n",
    "    # Determine correctness based on logit threshold\n",
    "    dfs['correct_0'] = dfs.apply(\n",
    "        lambda row: (row['toxicity'] > 0.5) == (row['log_diff_0'] > threshold_logit), axis=1\n",
    "    )\n",
    "\n",
    "    accuracy = dfs['correct_0'].mean()\n",
    "    print(f\"Accuracy: {accuracy}\")\n",
    "\n",
    "    # Compute majority metric per prompt group\n",
    "    majority_counts = []\n",
    "    for _, group in dfs.groupby('prompt'):\n",
    "        above_threshold = (group['log_diff_0'] > threshold_logit).sum()\n",
    "        below_threshold = len(group) - above_threshold\n",
    "        majority_counts.append(max(above_threshold, below_threshold))  # Get the higher count\n",
    "\n",
    "    mean_majority = np.mean(majority_counts)\n",
    "    print(f\"Mean majority count per prompt group: {mean_majority}\")\n",
    "\n",
    "    return mean_std_dev, accuracy, mean_majority"
   ]
  },
  {
   "cell_type": "markdown",
   "id": "20180b1a",
   "metadata": {},
   "source": [
    "seed 0 "
   ]
  },
  {
   "cell_type": "code",
   "execution_count": 6,
   "id": "dd3b61b0",
   "metadata": {},
   "outputs": [
    {
     "name": "stdout",
     "output_type": "stream",
     "text": [
      "-0.3:\n",
      "Mean standard deviation: 0.08174432047072691\n",
      "Accuracy: 0.7418981481481481\n",
      "Mean majority count per prompt group: 34.583333333333336\n",
      "-0.4:\n"
     ]
    },
    {
     "name": "stdout",
     "output_type": "stream",
     "text": [
      "Mean standard deviation: 0.0793114990929329\n",
      "Accuracy: 0.7228009259259259\n",
      "Mean majority count per prompt group: 34.6875\n",
      "-0.5:\n",
      "Mean standard deviation: 0.07702623520133105\n",
      "Accuracy: 0.7297453703703703\n",
      "Mean majority count per prompt group: 34.1875\n",
      "baseline:\n",
      "Mean standard deviation: 0.08718439555977958\n",
      "Accuracy: 0.7934027777777778\n",
      "Mean majority count per prompt group: 34.520833333333336\n"
     ]
    }
   ],
   "source": [
    "print(\"-0.3:\")\n",
    "file_name = \"work/bias_abl/results_abl_ablated_bias_EAP-IG_step3000_2357edges_with_toxicity_EAP_step10000_9785edges.json_scaleby0.3_split0.pkl\"\n",
    "std_3_0, acc_3_0,_ = get_results(file_name, dfs, threshold_logit)\n",
    "print(\"-0.4:\")\n",
    "file_name_2 = \"work/bias_abl/results_abl_ablated_bias_EAP-IG_step3000_2357edges_with_toxicity_EAP_step10000_9785edges.json_scaleby0.4_split0.pkl\"\n",
    "std_4_0, acc_4_0,_ = get_results(file_name_2, dfs, threshold_logit)\n",
    "print(\"-0.5:\")\n",
    "file_name_2 = \"work/bias_abl/results_abl_ablated_bias_EAP-IG_step3000_2357edges_with_toxicity_EAP_step10000_9785edges.json_scaleby0.5_split0.pkl\"\n",
    "std_5_0, acc_5_0,_ = get_results(file_name_2, dfs, threshold_logit)\n",
    "print(\"baseline:\")\n",
    "file_name = \"work/bias_abl/results_abl_no_edges_bias.json_scaleby0.3_split0.pkl\"\n",
    "std_b_0, acc_b_0,_ = get_results(file_name, dfs, threshold_logit)"
   ]
  },
  {
   "cell_type": "markdown",
   "id": "20f08eb6",
   "metadata": {},
   "source": [
    "seed 1"
   ]
  },
  {
   "cell_type": "code",
   "execution_count": 8,
   "id": "6b571004",
   "metadata": {},
   "outputs": [
    {
     "name": "stdout",
     "output_type": "stream",
     "text": [
      "-0.3:\n",
      "Mean standard deviation: 0.08524864738837272\n",
      "Accuracy: 0.7216435185185185\n",
      "Mean majority count per prompt group: 33.979166666666664\n",
      "-0.4:\n",
      "Mean standard deviation: 0.08089876037899744\n",
      "Accuracy: 0.6886574074074074\n",
      "Mean majority count per prompt group: 34.041666666666664\n",
      "baseline:\n",
      "Mean standard deviation: 0.08954408683916733\n",
      "Accuracy: 0.8501157407407407\n",
      "Mean majority count per prompt group: 34.354166666666664\n"
     ]
    }
   ],
   "source": [
    "print(\"-0.3:\")\n",
    "file_name = 'work/bias_abl/results_abl_ablated_bias_EAP-IG_step3000_2357edges_with_toxicity_EAP_step10000_9785edges.json_scaleby0.3_split1.pkl'\n",
    "std_3_1, acc_3_1,_ = get_results(file_name, dfs, threshold_logit)\n",
    "print(\"-0.4:\")\n",
    "file_name = 'work/bias_abl/results_abl_ablated_bias_EAP-IG_step3000_2357edges_with_toxicity_EAP_step10000_9785edges.json_scaleby0.4_split1.pkl'\n",
    "std_4_1, acc_4_1,_ = get_results(file_name, dfs, threshold_logit)\n",
    "print(\"baseline:\")\n",
    "file_name = 'work/bias_abl/results_abl_no_edges_bias.json_scaleby0.3_split1.pkl'\n",
    "std_b_1, acc_b_1 ,_ = get_results(file_name, dfs, threshold_logit)\n"
   ]
  },
  {
   "cell_type": "markdown",
   "id": "f97879c4",
   "metadata": {},
   "source": [
    "seed 2"
   ]
  },
  {
   "cell_type": "code",
   "execution_count": 10,
   "id": "ef89ba5f",
   "metadata": {},
   "outputs": [
    {
     "name": "stdout",
     "output_type": "stream",
     "text": [
      "-0.3:\n",
      "Mean standard deviation: 0.07945041440760921\n",
      "Accuracy: 0.7424768518518519\n",
      "Mean majority count per prompt group: 33.645833333333336\n",
      "-0.4:\n",
      "Mean standard deviation: 0.07858758939444574\n",
      "Accuracy: 0.7517361111111112\n",
      "Mean majority count per prompt group: 33.9375\n",
      "baseline:\n",
      "Mean standard deviation: 0.08578017668111598\n",
      "Accuracy: 0.8101851851851852\n",
      "Mean majority count per prompt group: 33.75\n"
     ]
    }
   ],
   "source": [
    "print(\"-0.3:\")\n",
    "file_name = 'work/bias_abl/results_abl_ablated_bias_EAP-IG_step3000_2357edges_with_toxicity_EAP_step10000_9785edges.json_scaleby0.3_split2.pkl'\n",
    "std_3_2, acc_3_2,_ = get_results(file_name, dfs, threshold_logit)\n",
    "print(\"-0.4:\") \n",
    "file_name = 'work/bias_abl/results_abl_ablated_bias_EAP-IG_step3000_2357edges_with_toxicity_EAP_step10000_9785edges.json_scaleby0.4_split2.pkl'\n",
    "std_4_2, acc_4_2,_ = get_results(file_name, dfs, threshold_logit)\n",
    "print(\"baseline:\")\n",
    "file_name = 'work/bias_abl/results_abl_no_edges_bias.json_scaleby0.3_split2.pkl'\n",
    "std_b_2, acc_b_2,_ = get_results(file_name, dfs, threshold_logit)"
   ]
  },
  {
   "cell_type": "markdown",
   "id": "4d909c01",
   "metadata": {},
   "source": [
    "### group the results"
   ]
  },
  {
   "cell_type": "code",
   "execution_count": 11,
   "id": "0e232061-efa2-4c0a-9c44-e8f1d16f1828",
   "metadata": {},
   "outputs": [],
   "source": [
    "# create a dataframe with the results\n",
    "df = pd.DataFrame({\n",
    "    \"std_3\": [std_3_0, std_3_1, std_3_2],\n",
    "    \"std_4\": [std_4_0, std_4_1, std_4_2],\n",
    "    \"std_5\": [std_5_0, None, None],\n",
    "    \"std_b\": [std_b_0, std_b_1, std_b_2],\n",
    "    \"acc_3\": [acc_3_0, acc_3_1, acc_3_2],\n",
    "    \"acc_4\": [acc_4_0, acc_4_1, acc_4_2],\n",
    "    \"acc_5\": [acc_5_0, None, None],\n",
    "    \"acc_b\": [acc_b_0, acc_b_1, acc_b_2]\n",
    "})\n",
    "\n",
    "# add the procentage change\n",
    "df[\"std_3_change\"] = (df[\"std_3\"] - df[\"std_b\"]) / df[\"std_b\"] * 100\n",
    "df[\"std_4_change\"] = (df[\"std_4\"] - df[\"std_b\"]) / df[\"std_b\"] * 100\n",
    "df[\"std_5_change\"] = (df[\"std_5\"] - df[\"std_b\"]) / df[\"std_b\"] * 100\n",
    "\n",
    "df[\"acc_3_change\"] = (df[\"acc_3\"] - df[\"acc_b\"]) / df[\"acc_b\"] * 100\n",
    "df[\"acc_4_change\"] = (df[\"acc_4\"] - df[\"acc_b\"]) / df[\"acc_b\"] * 100\n",
    "df[\"acc_5_change\"] = (df[\"acc_5\"] - df[\"acc_b\"]) / df[\"acc_b\"] * 100"
   ]
  },
  {
   "cell_type": "code",
   "execution_count": 12,
   "id": "6d053492",
   "metadata": {},
   "outputs": [
    {
     "data": {
      "text/html": [
       "<div>\n",
       "<style scoped>\n",
       "    .dataframe tbody tr th:only-of-type {\n",
       "        vertical-align: middle;\n",
       "    }\n",
       "\n",
       "    .dataframe tbody tr th {\n",
       "        vertical-align: top;\n",
       "    }\n",
       "\n",
       "    .dataframe thead th {\n",
       "        text-align: right;\n",
       "    }\n",
       "</style>\n",
       "<table border=\"1\" class=\"dataframe\">\n",
       "  <thead>\n",
       "    <tr style=\"text-align: right;\">\n",
       "      <th></th>\n",
       "      <th>std_3</th>\n",
       "      <th>std_4</th>\n",
       "      <th>std_5</th>\n",
       "      <th>std_b</th>\n",
       "      <th>acc_3</th>\n",
       "      <th>acc_4</th>\n",
       "      <th>acc_5</th>\n",
       "      <th>acc_b</th>\n",
       "      <th>std_3_change</th>\n",
       "      <th>std_4_change</th>\n",
       "      <th>std_5_change</th>\n",
       "      <th>acc_3_change</th>\n",
       "      <th>acc_4_change</th>\n",
       "      <th>acc_5_change</th>\n",
       "    </tr>\n",
       "  </thead>\n",
       "  <tbody>\n",
       "    <tr>\n",
       "      <th>0</th>\n",
       "      <td>0.081744</td>\n",
       "      <td>0.079311</td>\n",
       "      <td>0.077026</td>\n",
       "      <td>0.087184</td>\n",
       "      <td>0.741898</td>\n",
       "      <td>0.722801</td>\n",
       "      <td>0.729745</td>\n",
       "      <td>0.793403</td>\n",
       "      <td>-6.239735</td>\n",
       "      <td>-9.030167</td>\n",
       "      <td>-11.651351</td>\n",
       "      <td>-6.491612</td>\n",
       "      <td>-8.898614</td>\n",
       "      <td>-8.023341</td>\n",
       "    </tr>\n",
       "    <tr>\n",
       "      <th>1</th>\n",
       "      <td>0.085249</td>\n",
       "      <td>0.080899</td>\n",
       "      <td>NaN</td>\n",
       "      <td>0.089544</td>\n",
       "      <td>0.721644</td>\n",
       "      <td>0.688657</td>\n",
       "      <td>NaN</td>\n",
       "      <td>0.850116</td>\n",
       "      <td>-4.797011</td>\n",
       "      <td>-9.654827</td>\n",
       "      <td>NaN</td>\n",
       "      <td>-15.112321</td>\n",
       "      <td>-18.992512</td>\n",
       "      <td>NaN</td>\n",
       "    </tr>\n",
       "    <tr>\n",
       "      <th>2</th>\n",
       "      <td>0.079450</td>\n",
       "      <td>0.078588</td>\n",
       "      <td>NaN</td>\n",
       "      <td>0.085780</td>\n",
       "      <td>0.742477</td>\n",
       "      <td>0.751736</td>\n",
       "      <td>NaN</td>\n",
       "      <td>0.810185</td>\n",
       "      <td>-7.379050</td>\n",
       "      <td>-8.384906</td>\n",
       "      <td>NaN</td>\n",
       "      <td>-8.357143</td>\n",
       "      <td>-7.214286</td>\n",
       "      <td>NaN</td>\n",
       "    </tr>\n",
       "  </tbody>\n",
       "</table>\n",
       "</div>"
      ],
      "text/plain": [
       "      std_3     std_4     std_5     std_b     acc_3     acc_4     acc_5  \\\n",
       "0  0.081744  0.079311  0.077026  0.087184  0.741898  0.722801  0.729745   \n",
       "1  0.085249  0.080899       NaN  0.089544  0.721644  0.688657       NaN   \n",
       "2  0.079450  0.078588       NaN  0.085780  0.742477  0.751736       NaN   \n",
       "\n",
       "      acc_b  std_3_change  std_4_change  std_5_change  acc_3_change  \\\n",
       "0  0.793403     -6.239735     -9.030167    -11.651351     -6.491612   \n",
       "1  0.850116     -4.797011     -9.654827           NaN    -15.112321   \n",
       "2  0.810185     -7.379050     -8.384906           NaN     -8.357143   \n",
       "\n",
       "   acc_4_change  acc_5_change  \n",
       "0     -8.898614     -8.023341  \n",
       "1    -18.992512           NaN  \n",
       "2     -7.214286           NaN  "
      ]
     },
     "execution_count": 12,
     "metadata": {},
     "output_type": "execute_result"
    }
   ],
   "source": [
    "df"
   ]
  },
  {
   "cell_type": "code",
   "execution_count": 13,
   "id": "13660d34",
   "metadata": {},
   "outputs": [
    {
     "data": {
      "text/plain": [
       "std_3            0.082148\n",
       "std_4            0.079599\n",
       "std_5            0.077026\n",
       "std_b            0.087503\n",
       "acc_3            0.735340\n",
       "acc_4            0.721065\n",
       "acc_5            0.729745\n",
       "acc_b            0.817901\n",
       "std_3_change    -6.138599\n",
       "std_4_change    -9.023300\n",
       "std_5_change   -11.651351\n",
       "acc_3_change    -9.987025\n",
       "acc_4_change   -11.701804\n",
       "acc_5_change    -8.023341\n",
       "dtype: float64"
      ]
     },
     "execution_count": 13,
     "metadata": {},
     "output_type": "execute_result"
    }
   ],
   "source": [
    "# mean std dev and accuracy across for each ablation\n",
    "df.mean()\n"
   ]
  },
  {
   "cell_type": "code",
   "execution_count": 14,
   "id": "8f3c90f6",
   "metadata": {},
   "outputs": [
    {
     "data": {
      "text/plain": [
       "std_3           0.002920\n",
       "std_4           0.001182\n",
       "std_5                NaN\n",
       "std_b           0.001902\n",
       "acc_3           0.011865\n",
       "acc_4           0.031575\n",
       "acc_5                NaN\n",
       "acc_b           0.029133\n",
       "std_3_change    1.293987\n",
       "std_4_change    0.634988\n",
       "std_5_change         NaN\n",
       "acc_3_change    4.535587\n",
       "acc_4_change    6.369855\n",
       "acc_5_change         NaN\n",
       "dtype: float64"
      ]
     },
     "execution_count": 14,
     "metadata": {},
     "output_type": "execute_result"
    }
   ],
   "source": [
    "df.std()"
   ]
  },
  {
   "cell_type": "code",
   "execution_count": null,
   "id": "82b432fe",
   "metadata": {},
   "outputs": [],
   "source": []
  }
 ],
 "metadata": {
  "kernelspec": {
   "display_name": "dl2024",
   "language": "python",
   "name": "python3"
  },
  "language_info": {
   "codemirror_mode": {
    "name": "ipython",
    "version": 3
   },
   "file_extension": ".py",
   "mimetype": "text/x-python",
   "name": "python",
   "nbconvert_exporter": "python",
   "pygments_lexer": "ipython3",
   "version": "3.12.7"
  }
 },
 "nbformat": 4,
 "nbformat_minor": 5
}
